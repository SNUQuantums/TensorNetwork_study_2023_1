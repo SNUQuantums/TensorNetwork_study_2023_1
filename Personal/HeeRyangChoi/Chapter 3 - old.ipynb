{
 "cells": [
  {
   "cell_type": "markdown",
   "id": "b252eb9e",
   "metadata": {},
   "source": [
    "# Tutorial 03.1 Tensor decomposition"
   ]
  },
  {
   "cell_type": "code",
   "execution_count": 1,
   "id": "f43c352a",
   "metadata": {
    "scrolled": false
   },
   "outputs": [],
   "source": [
    "import torch\n",
    "from scipy.linalg import svd\n",
    "import numpy as np\n",
    "\n",
    "# Tensor decomposition and entanglement entropy\n",
    "# Define the size of the tensor\n",
    "sz = [2, 3, 2, 3, 4]\n",
    "\n",
    "# Create the rank-5 tensor and normalize it\n",
    "T = torch.arange(1, np.prod(sz)+1, dtype=torch.float).reshape(sz)\n",
    "T = T / torch.norm(T)\n",
    "\n",
    "# Initialize the list to store Q\n",
    "Q = [None]*len(sz)\n",
    "R = T  # temporary tensor to be QR-decomposed\n",
    "\n",
    "szl = 1  # the bond dimension of the left leg of Q[n] to be obtained after\n",
    "# the QR decomposition at iteration n; for n = 1, szl = 1 for the dummy leg"
   ]
  },
  {
   "cell_type": "code",
   "execution_count": 2,
   "id": "431213e4",
   "metadata": {},
   "outputs": [
    {
     "name": "stdout",
     "output_type": "stream",
     "text": [
      "[2, 3, 2, 3, 4]\n",
      "[6, 2, 3, 4]\n",
      "[12, 3, 4]\n",
      "[4, 4]\n",
      "torch.Size([4, 4])\n",
      "2\n",
      "Shape of Q[0]: torch.Size([1, 2, 2])\n",
      "Shape of Q[1]: torch.Size([2, 6, 3])\n",
      "Shape of Q[2]: torch.Size([6, 12, 2])\n",
      "Shape of Q[3]: torch.Size([12, 4, 3])\n",
      "Shape of Q[4]: torch.Size([4, 1, 4])\n"
     ]
    }
   ],
   "source": [
    "for it in range(len(sz)-1):\n",
    "    R = R.reshape([szl*sz[it], np.prod(sz[it+1:])])\n",
    "    Q[it], R = torch.linalg.qr(R)\n",
    "    Q[it] = Q[it].reshape([szl, sz[it], int(Q[it].numel()/szl/sz[it])])\n",
    "    Q[it] = Q[it].permute([0, 2, 1])  # permute to the left-right-bottom order\n",
    "    szl = Q[it].shape[1]  # update the bond dimension\n",
    "    R = R.reshape([szl]+sz[it+1:])\n",
    "    print([szl]+sz[it+1:])\n",
    "\n",
    "print(R.shape)\n",
    "print(R.dim())\n",
    "\n",
    "if R.dim() > 2:\n",
    "    Q[-1] = R.permute([0, 2, 1])\n",
    "else:\n",
    "    temp = R.shape\n",
    "    Q[-1] = R.reshape([temp[0]] + [1] + [temp[1]])\n",
    "    \n",
    "for i, tensor in enumerate(Q):\n",
    "    print(f\"Shape of Q[{i}]: {tensor.shape}\")"
   ]
  },
  {
   "cell_type": "code",
   "execution_count": 3,
   "id": "8ddc4f36",
   "metadata": {},
   "outputs": [
    {
     "name": "stdout",
     "output_type": "stream",
     "text": [
      "torch.Size([2, 3, 2, 3, 4])\n",
      "torch.Size([2, 2, 3, 2, 3, 4, 1])\n"
     ]
    },
    {
     "ename": "RuntimeError",
     "evalue": "The size of tensor a (3) must match the size of tensor b (4) at non-singleton dimension 5",
     "output_type": "error",
     "traceback": [
      "\u001b[1;31m---------------------------------------------------------------------------\u001b[0m",
      "\u001b[1;31mRuntimeError\u001b[0m                              Traceback (most recent call last)",
      "Input \u001b[1;32mIn [3]\u001b[0m, in \u001b[0;36m<cell line: 8>\u001b[1;34m()\u001b[0m\n\u001b[0;32m      6\u001b[0m \u001b[38;5;28mprint\u001b[39m(T\u001b[38;5;241m.\u001b[39mshape)\n\u001b[0;32m      7\u001b[0m \u001b[38;5;28mprint\u001b[39m(T2\u001b[38;5;241m.\u001b[39mshape)\n\u001b[1;32m----> 8\u001b[0m \u001b[38;5;28mprint\u001b[39m(torch\u001b[38;5;241m.\u001b[39mmax(torch\u001b[38;5;241m.\u001b[39mabs(\u001b[43mT\u001b[49m\u001b[43m \u001b[49m\u001b[38;5;241;43m-\u001b[39;49m\u001b[43m \u001b[49m\u001b[43mT2\u001b[49m)))\n",
      "\u001b[1;31mRuntimeError\u001b[0m: The size of tensor a (3) must match the size of tensor b (4) at non-singleton dimension 5"
     ]
    }
   ],
   "source": [
    "# Contract the tensors Q[n] to make a rank-5 tensor again\n",
    "T2 = Q[0].permute([2, 1, 0])\n",
    "for it in range(1, len(sz)):\n",
    "    T2 = torch.tensordot(T2, Q[it].permute([0, 2, 1]), dims=[[len(T2.shape)-1], [0]])\n",
    "\n",
    "print(T.shape)\n",
    "print(T2.shape)\n",
    "print(torch.max(torch.abs(T - T2)))"
   ]
  },
  {
   "cell_type": "markdown",
   "id": "cb6df9d2",
   "metadata": {},
   "source": [
    "### Entanglement entropies for 3 different bipartitions"
   ]
  },
  {
   "cell_type": "code",
   "execution_count": null,
   "id": "09fd3871",
   "metadata": {},
   "outputs": [],
   "source": [
    "# A = {1, 2}, B = {3, 4, 5}\n",
    "svec = torch.linalg.svd(T.reshape([sz[0]*sz[1], np.prod(sz[2:])]))[1]  # singular values\n",
    "Spart = -(svec**2)*torch.log(svec**2)/torch.log(torch.tensor(2.))  # contributions to entanglement entropy\n",
    "print(torch.sum(Spart[~torch.isnan(Spart)]))  # entanglement entropy"
   ]
  },
  {
   "cell_type": "code",
   "execution_count": null,
   "id": "045901c8",
   "metadata": {},
   "outputs": [],
   "source": [
    "# A = {1, 3}, B = {2, 4, 5}\n",
    "svec = torch.linalg.svd(T.permute([0, 2, 1, 3, 4]).reshape([sz[0]*sz[2], sz[1]*sz[3]*sz[4]]))[1]  # singular values\n",
    "Spart = -(svec**2)*torch.log(svec**2)/torch.log(torch.tensor(2.))  # contributions to entanglement entropy\n",
    "print(torch.sum(Spart[~torch.isnan(Spart)]))  # entanglement entropy"
   ]
  },
  {
   "cell_type": "code",
   "execution_count": null,
   "id": "09cfe4ce",
   "metadata": {},
   "outputs": [],
   "source": [
    "# A = {1, 5}, B = {2, 3, 4}\n",
    "svec = torch.linalg.svd(T.permute([0, 4, 1, 2, 3]).reshape([sz[0]*sz[4], sz[1]*sz[2]*sz[3]]))[1]  # singular values\n",
    "Spart = -(svec**2)*torch.log(svec**2)/torch.log(torch.tensor(2.))  # contributions to entanglement entropy\n",
    "print(torch.sum(Spart[~torch.isnan(Spart)]))  # entanglement entropy"
   ]
  },
  {
   "cell_type": "code",
   "execution_count": null,
   "id": "7e6b78c1",
   "metadata": {},
   "outputs": [],
   "source": [
    "# Use the SVD for the tensor decomposition and compute the entanglement entropy\n",
    "M = [None]*len(sz)  # MPS tensors\n",
    "Sent = torch.zeros(len(sz)-1)  # entanglement entropy\n",
    "R = T  # temporary tensor to be SVD-ed\n",
    "\n",
    "szl = 1  # the bond dimension of the left leg of R[n] to be obtained \n",
    "# after the SVD at iteration n; trivially 1 for n = 1"
   ]
  },
  {
   "cell_type": "code",
   "execution_count": null,
   "id": "da5e07ac",
   "metadata": {},
   "outputs": [],
   "source": [
    "for it in range(len(sz)-1):\n",
    "    R = R.reshape([szl*sz[it], np.prod(sz[it+1:])])\n",
    "    U, svec, V = torch.linalg.svd(R, full_matrices=False)\n",
    "    \n",
    "    # truncate the column vectors of U and V associated with \n",
    "    # singular values smaller than eps\n",
    "    ok = svec < torch.finfo(svec.dtype).eps\n",
    "    U = U[:, ~ok]\n",
    "    V = V[~ok, :]\n",
    "    \n",
    "    M[it] = U.reshape([szl, sz[it], int(U.numel()/szl/sz[it])])\n",
    "    M[it] = M[it].permute([0, 2, 1])  # permute to the left-right-bottom order\n",
    "    szl = M[it].shape[1]  # update the bond dimension\n",
    "    R = torch.diag(svec[~ok]) @ V\n",
    "    R = R.reshape([szl]+sz[it+1:])\n",
    "    \n",
    "    # compute entanglement entropy\n",
    "    Spart = -(svec**2)*torch.log(svec**2)/torch.log(torch.tensor(2.))\n",
    "    Sent[it] = torch.sum(Spart[~torch.isnan(Spart)])\n",
    "\n",
    "if R.dim() == 3:\n",
    "    M[-1] = R.permute([0, 2, 1])\n",
    "elif R.dim() == 2:\n",
    "    M[-1] = R.permute([1, 0])\n",
    "    \n",
    "# Check the tensors M and Q\n",
    "for i, tensor in enumerate(M):\n",
    "    print(f\"Shape of M[{i}]: {tensor.shape}\")\n",
    "    \n",
    "for i, tensor in enumerate(Q):\n",
    "    print(f\"Shape of Q[{i}]: {tensor.shape}\")"
   ]
  },
  {
   "cell_type": "code",
   "execution_count": null,
   "id": "12db4388",
   "metadata": {},
   "outputs": [],
   "source": [
    "# Print the values of entanglement entropy\n",
    "print(Sent)"
   ]
  },
  {
   "cell_type": "code",
   "execution_count": null,
   "id": "e3e1c999",
   "metadata": {},
   "outputs": [],
   "source": [
    "# Check whether the contraction of M's give the original tensor T\n",
    "T2 = M[0].permute([2, 1, 0])\n",
    "for it in range(1, len(sz)):\n",
    "    if M[it].dim() == 3:\n",
    "        T2 = torch.tensordot(T2, M[it].permute([0, 2, 1]), dims=[[len(T2.shape)-1], [0]])\n",
    "    elif M[it].dim() == 2:\n",
    "        T2 = torch.tensordot(T2, M[it].permute([1, 0]), dims=[[len(T2.shape)-1], [0]])\n",
    "\n",
    "print(T.shape)\n",
    "print(T2.shape)\n",
    "print(torch.max(torch.abs(T - T2)))"
   ]
  },
  {
   "cell_type": "code",
   "execution_count": null,
   "id": "c2d14ce8",
   "metadata": {},
   "outputs": [],
   "source": []
  }
 ],
 "metadata": {
  "kernelspec": {
   "display_name": "Python 3 (ipykernel)",
   "language": "python",
   "name": "python3"
  },
  "language_info": {
   "codemirror_mode": {
    "name": "ipython",
    "version": 3
   },
   "file_extension": ".py",
   "mimetype": "text/x-python",
   "name": "python",
   "nbconvert_exporter": "python",
   "pygments_lexer": "ipython3",
   "version": "3.9.12"
  }
 },
 "nbformat": 4,
 "nbformat_minor": 5
}
