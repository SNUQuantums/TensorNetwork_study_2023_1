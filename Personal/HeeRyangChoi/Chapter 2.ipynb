{
 "cells": [
  {
   "cell_type": "markdown",
   "id": "d51bf6be",
   "metadata": {},
   "source": [
    "# Tutorial 02.1 W state"
   ]
  },
  {
   "cell_type": "code",
   "execution_count": 1,
   "id": "db3ff44d",
   "metadata": {},
   "outputs": [
    {
     "name": "stdout",
     "output_type": "stream",
     "text": [
      "tensor(5)\n",
      "tensor(1.)\n",
      "tensor(1.)\n",
      "tensor(1.)\n",
      "tensor(1.)\n",
      "tensor(1.)\n"
     ]
    }
   ],
   "source": [
    "import torch\n",
    "\n",
    "# define the number of qubits\n",
    "N = 5\n",
    "\n",
    "# define a rank-N tensor\n",
    "A = torch.zeros((2,) * N)\n",
    "\n",
    "# assign coefficients\n",
    "list = [[1, 0, 0, 0, 0], [0, 1, 0, 0, 0], [0, 0, 1, 0, 0],\n",
    "        [0, 0, 0, 1, 0], [0, 0, 0, 0, 1]]\n",
    "A[list] = 1 / torch.sqrt(torch.tensor(N, dtype=torch.float))\n",
    "\n",
    "# check whether it works\n",
    "print(torch.count_nonzero(A))  # number of nonzero elements\n",
    "print(A[1, 0, 0, 0, 0] * torch.sqrt(torch.tensor(N)))  # 2nd element\n",
    "print(A[0, 1, 0, 0, 0] * torch.sqrt(torch.tensor(N)))  # 3rd element\n",
    "print(A[0, 0, 1, 0, 0] * torch.sqrt(torch.tensor(N)))  # 4th element\n",
    "print(A[0, 0, 0, 1, 0] * torch.sqrt(torch.tensor(N)))  # 5th element\n",
    "print(A[0, 0, 0, 0, 1] * torch.sqrt(torch.tensor(N)))  # 6th element"
   ]
  },
  {
   "cell_type": "markdown",
   "id": "39156191",
   "metadata": {},
   "source": [
    "# Tutorial 02.2 Tensor contractions"
   ]
  },
  {
   "cell_type": "code",
   "execution_count": 2,
   "id": "ab88d7b1",
   "metadata": {},
   "outputs": [
    {
     "name": "stdout",
     "output_type": "stream",
     "text": [
      "tensor([[5.2450, 4.8354, 3.6112, 3.4941, 3.6081, 4.7894],\n",
      "        [4.2956, 3.9323, 3.7275, 3.6172, 4.6672, 3.5172],\n",
      "        [5.9325, 6.3375, 5.5782, 4.9800, 6.5101, 5.6090]])\n"
     ]
    }
   ],
   "source": [
    "import torch\n",
    "\n",
    "# Define tensors\n",
    "A = torch.rand(4, 5, 3)\n",
    "B = torch.rand(6, 4, 5)\n",
    "\n",
    "# Contract the first and second legs of A to the second and third legs of B, respectively.\n",
    "C = torch.tensordot(A, B, dims=([0, 1], [1, 2]))\n",
    "print(C)"
   ]
  },
  {
   "cell_type": "code",
   "execution_count": 3,
   "id": "d13c7674",
   "metadata": {},
   "outputs": [
    {
     "name": "stdout",
     "output_type": "stream",
     "text": [
      "tensor([[5.2450, 4.2956, 5.9325],\n",
      "        [4.8354, 3.9323, 6.3375],\n",
      "        [3.6112, 3.7275, 5.5782],\n",
      "        [3.4941, 3.6172, 4.9800],\n",
      "        [3.6081, 4.6672, 6.5101],\n",
      "        [4.7894, 3.5172, 5.6090]])\n"
     ]
    }
   ],
   "source": [
    "# The contract function also provides the permutation after the contraction.\n",
    "C = torch.tensordot(A, B, dims=([0, 1], [1, 2])).permute(1, 0)\n",
    "print(C)"
   ]
  },
  {
   "cell_type": "code",
   "execution_count": 4,
   "id": "26ae2f7e",
   "metadata": {},
   "outputs": [
    {
     "name": "stdout",
     "output_type": "stream",
     "text": [
      "tensor([[5.2450, 4.8354, 3.6112, 3.4941, 3.6081, 4.7894],\n",
      "        [4.2956, 3.9323, 3.7275, 3.6172, 4.6672, 3.5172],\n",
      "        [5.9325, 6.3375, 5.5782, 4.9800, 6.5101, 5.6090]])\n"
     ]
    }
   ],
   "source": [
    "# If one makes any mistake, the routine gives relevant error message.\n",
    "# The ranks are specified wrongly:\n",
    "try:\n",
    "    print(torch.tensordot(A, B, dims=([0, 1], [1, 2])))\n",
    "except RuntimeError as e:\n",
    "    print(e)"
   ]
  },
  {
   "cell_type": "code",
   "execution_count": 5,
   "id": "f87af892",
   "metadata": {},
   "outputs": [
    {
     "name": "stdout",
     "output_type": "stream",
     "text": [
      "both dimension lists should have same length\n"
     ]
    }
   ],
   "source": [
    "# The number of legs to be contracted do not match:\n",
    "try:\n",
    "    print(torch.tensordot(A, B, dims=([0, 1], [1])))\n",
    "except RuntimeError as e:\n",
    "    print(e)"
   ]
  },
  {
   "cell_type": "code",
   "execution_count": 6,
   "id": "9aa96019",
   "metadata": {},
   "outputs": [
    {
     "name": "stdout",
     "output_type": "stream",
     "text": [
      "contracted dimensions need to match, but first has size 4 in dim 0 and second has size 6 in dim 0\n"
     ]
    }
   ],
   "source": [
    "# The sizes of the legs to be contracted do not match:\n",
    "try:\n",
    "    torch.tensordot(A, B, dims=([0, 1], [0, 1]))\n",
    "except RuntimeError as e:\n",
    "    print(e)"
   ]
  },
  {
   "cell_type": "code",
   "execution_count": 7,
   "id": "c835a1dd",
   "metadata": {},
   "outputs": [
    {
     "name": "stdout",
     "output_type": "stream",
     "text": [
      "torch.Size([3, 4, 1, 1, 1])\n",
      "False\n",
      "torch.Size([3, 1, 4])\n",
      "False\n"
     ]
    }
   ],
   "source": [
    "F = torch.rand(3, 4, 1, 1, 1)  # define F as rank-5\n",
    "\n",
    "# But when we query the size of F, it shows as rank-2.\n",
    "print(F.size())\n",
    "print(F.ndim == 2)\n",
    "\n",
    "# On the other hand, the singleton dimensions in the middle are not truncated:\n",
    "F = torch.rand(3, 1, 4)\n",
    "print(F.size())\n",
    "print(F.ndim == 2)"
   ]
  },
  {
   "cell_type": "code",
   "execution_count": 8,
   "id": "2cfe06e2",
   "metadata": {},
   "outputs": [
    {
     "name": "stdout",
     "output_type": "stream",
     "text": [
      "tensor(166.5938)\n",
      "tensor(1.1495e-07)\n"
     ]
    }
   ],
   "source": [
    "import torch\n",
    "\n",
    "d_a = 101  # d_alpha\n",
    "d_b = 102  # d_beta\n",
    "d_c = 103  # d_gamma\n",
    "d_d = 104  # d_delta\n",
    "d_m = 105  # d_mu\n",
    "\n",
    "# tensor A(gamma, delta)\n",
    "A = torch.rand(d_c, d_d)\n",
    "# tensor B(alpha, mu, gamma)\n",
    "B = torch.rand(d_a, d_m, d_c)\n",
    "# tensor C(beta, mu, delta)\n",
    "C = torch.rand(d_b, d_m, d_d)\n",
    "\n",
    "# Way 1: contract B and C first, then contract with A (as done in the demonstration)\n",
    "BC = torch.tensordot(B, C, dims=([1], [1]))  # BC(alpha, gamma, beta, delta)\n",
    "ABC1 = torch.tensordot(BC, A, dims=([1, 3], [0, 1]))  # ABC(alpha, beta)\n",
    "\n",
    "# Way 2: contract A and C first, then contract with B (as asked in the Exercise)\n",
    "AC = torch.tensordot(A, C, dims=([1], [2]))  # AC(gamma, beta, mu)\n",
    "ABC2 = torch.tensordot(B, AC, dims=([1, 2], [2, 0]))  # ABC(alpha, beta)\n",
    "\n",
    "# We should always check whether two different ways give the same result.\n",
    "print(torch.sum(torch.abs(ABC1 - ABC2)))  # absolute error\n",
    "print(torch.mean(torch.abs((ABC1 - ABC2) / ABC1)))  # relative error"
   ]
  }
 ],
 "metadata": {
  "kernelspec": {
   "display_name": "Python 3 (ipykernel)",
   "language": "python",
   "name": "python3"
  },
  "language_info": {
   "codemirror_mode": {
    "name": "ipython",
    "version": 3
   },
   "file_extension": ".py",
   "mimetype": "text/x-python",
   "name": "python",
   "nbconvert_exporter": "python",
   "pygments_lexer": "ipython3",
   "version": "3.9.12"
  }
 },
 "nbformat": 4,
 "nbformat_minor": 5
}
