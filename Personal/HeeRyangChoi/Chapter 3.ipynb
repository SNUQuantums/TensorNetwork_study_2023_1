{
 "cells": [
  {
   "cell_type": "markdown",
   "id": "b252eb9e",
   "metadata": {},
   "source": [
    "# Tutorial 03.1 Tensor decomposition"
   ]
  },
  {
   "cell_type": "code",
   "execution_count": 19,
   "id": "f43c352a",
   "metadata": {
    "scrolled": false
   },
   "outputs": [
    {
     "ename": "RuntimeError",
     "evalue": "number of dims don't match in permute",
     "output_type": "error",
     "traceback": [
      "\u001b[1;31m---------------------------------------------------------------------------\u001b[0m",
      "\u001b[1;31mRuntimeError\u001b[0m                              Traceback (most recent call last)",
      "Input \u001b[1;32mIn [19]\u001b[0m, in \u001b[0;36m<cell line: 20>\u001b[1;34m()\u001b[0m\n\u001b[0;32m     17\u001b[0m     szl \u001b[38;5;241m=\u001b[39m Q[it]\u001b[38;5;241m.\u001b[39mshape[\u001b[38;5;241m1\u001b[39m]  \u001b[38;5;66;03m# update the bond dimension\u001b[39;00m\n\u001b[0;32m     18\u001b[0m     R \u001b[38;5;241m=\u001b[39m R\u001b[38;5;241m.\u001b[39mreshape(szl, \u001b[38;5;241m*\u001b[39msz[it \u001b[38;5;241m+\u001b[39m \u001b[38;5;241m1\u001b[39m:])\n\u001b[1;32m---> 20\u001b[0m R \u001b[38;5;241m=\u001b[39m \u001b[43mR\u001b[49m\u001b[38;5;241;43m.\u001b[39;49m\u001b[43mpermute\u001b[49m\u001b[43m(\u001b[49m\u001b[38;5;241;43m0\u001b[39;49m\u001b[43m,\u001b[49m\u001b[43m \u001b[49m\u001b[38;5;241;43m2\u001b[39;49m\u001b[43m,\u001b[49m\u001b[43m \u001b[49m\u001b[38;5;241;43m1\u001b[39;49m\u001b[43m)\u001b[49m  \u001b[38;5;66;03m# permute R to match dimensions with Q[-1]\u001b[39;00m\n\u001b[0;32m     21\u001b[0m Q[\u001b[38;5;241m-\u001b[39m\u001b[38;5;241m1\u001b[39m] \u001b[38;5;241m=\u001b[39m R\u001b[38;5;241m.\u001b[39mreshape(szl, sz[\u001b[38;5;241m-\u001b[39m\u001b[38;5;241m1\u001b[39m], \u001b[38;5;241m-\u001b[39m\u001b[38;5;241m1\u001b[39m \u001b[38;5;241m/\u001b[39m\u001b[38;5;241m/\u001b[39m szl \u001b[38;5;241m/\u001b[39m\u001b[38;5;241m/\u001b[39m sz[\u001b[38;5;241m-\u001b[39m\u001b[38;5;241m1\u001b[39m])\n\u001b[0;32m     22\u001b[0m \u001b[38;5;66;03m## \u001b[39;00m\n\u001b[0;32m     23\u001b[0m \u001b[38;5;66;03m# Now let's contract the tensors |Q{n}| to make a rank-5 tensor again.\u001b[39;00m\n\u001b[0;32m     24\u001b[0m \u001b[38;5;66;03m# \u001b[39;00m\n\u001b[1;32m   (...)\u001b[0m\n\u001b[0;32m     29\u001b[0m \u001b[38;5;66;03m# the remaining two legs of |Q{1}| in the bottom (physical)-right order. All these \u001b[39;00m\n\u001b[0;32m     30\u001b[0m \u001b[38;5;66;03m# treatment can be done by a single line of |permute|:\u001b[39;00m\n",
      "\u001b[1;31mRuntimeError\u001b[0m: number of dims don't match in permute"
     ]
    }
   ],
   "source": [
    "import torch\n",
    "import numpy as np\n",
    "\n",
    "sz = [2, 3, 2, 3, 4]  # local space dimensions\n",
    "T = torch.arange(1, np.prod(sz) + 1, dtype=torch.float).reshape(sz)  # rank-5 tensor\n",
    "T = T / T.norm()  # normalize\n",
    "\n",
    "Q = [None] * len(sz)\n",
    "R = T.clone()  # temporary tensor to be QR-decomposed\n",
    "szl = 1  # the bond dimension of the left leg of Q[n] to be obtained after\n",
    "         # the QR decomposition at iteration n; for n = 1, szl = 1 for the dummy leg\n",
    "for it in range(len(sz) - 1):\n",
    "    R = R.reshape(szl * sz[it], -1)\n",
    "    Q[it], R = torch.qr(R)\n",
    "    Q[it] = Q[it].reshape(szl, sz[it], -1 // szl // sz[it])\n",
    "    Q[it] = Q[it].permute(0, 2, 1)  # permute to the left-right-bottom order\n",
    "    szl = Q[it].shape[1]  # update the bond dimension\n",
    "    R = R.reshape(szl, *sz[it + 1:])\n",
    "\n",
    "Q[-1] = R.permute(0, 2, 1)\n",
    "## \n",
    "# Now let's contract the tensors |Q{n}| to make a rank-5 tensor again.\n",
    "# \n",
    "# We first remove the first (i.e., left) leg of |Q{1}| which is dummy, either \n",
    "# by reshaping |Q{1}| or by permuting the first leg to the end. The latter approach \n",
    "# works since PyTorch automatically suppresses trailing singleton dimensions; such \n",
    "# permuted leg will not appear explicitly in the array. Also, we want to sort \n",
    "# the remaining two legs of |Q{1}| in the bottom (physical)-right order. All these \n",
    "# treatment can be done by a single line of |permute|:\n",
    "\n",
    "T2 = Q[0].permute(1, 2, 0)[1:, :, :]  # remove dummy leg and permute legs\n",
    "\n",
    "## \n",
    "# And we contract tensors.\n",
    "\n",
    "for it in range(1, len(sz)):\n",
    "    T2 = T2.matmul(Q[it].permute(0, 2, 1)).permute(0, 2, 1, 3)\n",
    "\n",
    "## \n",
    "# Let's check whether |T2| and |T| are the same.\n",
    "\n",
    "print(T.shape)\n",
    "print(T2.shape)\n",
    "print(torch.max(torch.abs(T - T2)))\n"
   ]
  },
  {
   "cell_type": "code",
   "execution_count": null,
   "id": "b47cde80",
   "metadata": {},
   "outputs": [],
   "source": []
  }
 ],
 "metadata": {
  "kernelspec": {
   "display_name": "Python 3 (ipykernel)",
   "language": "python",
   "name": "python3"
  },
  "language_info": {
   "codemirror_mode": {
    "name": "ipython",
    "version": 3
   },
   "file_extension": ".py",
   "mimetype": "text/x-python",
   "name": "python",
   "nbconvert_exporter": "python",
   "pygments_lexer": "ipython3",
   "version": "3.9.12"
  }
 },
 "nbformat": 4,
 "nbformat_minor": 5
}
